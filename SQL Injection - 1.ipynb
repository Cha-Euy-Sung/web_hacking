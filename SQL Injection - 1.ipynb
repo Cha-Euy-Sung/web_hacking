{
 "cells": [
  {
   "cell_type": "markdown",
   "metadata": {},
   "source": [
    "# 1. SQL Injection 개요\n",
    "\n",
    "----"
   ]
  },
  {
   "cell_type": "markdown",
   "metadata": {},
   "source": [
    "## 01 | SQL Injection 개요\n",
    "\n",
    "---\n",
    "\n",
    "#### SQL Injection 이란?\n",
    "\n",
    "- 설계된 쿼리(질의)문에 의도하지 않은 쿼리를 삽입하여 악의적인 SQL문을 실행시키는 공격\n",
    "- <span style=\"color:blue\">(노트북 이름)</span>이 뭐야? -> <span style=\"color:blue\">(노트북이름)</span><span style=\"color:red\">(과 주민등럭번호, 계좌번호, 계좌비밀번호, 아이디 등)</span>이 뭐야?"
   ]
  },
  {
   "cell_type": "code",
   "execution_count": null,
   "metadata": {},
   "outputs": [],
   "source": []
  },
  {
   "cell_type": "markdown",
   "metadata": {},
   "source": [
    "## 02 | SQL (Structured Query Language)\n",
    "\n",
    "---\n",
    "\n",
    "#### SQL (Structured Query Language)\n",
    "- 데이터베이스에 질의, 수정, 삭제 등의 작업을 하는 데이터베이스 관리용 언어\n",
    "- 사용 용도에 따라 DDL,DCL, DML로 구분\n",
    "\n",
    "#### DDL(데이터 정의어)\n",
    "- Schema, Table, Domain, View, Index를 정의, 변경, 삭제할 때 사용 \n",
    "- CREATE, ALTER, DROP, RENAME, TRUNCATE\n",
    "\n",
    "#### DCL(데이터 제어어)\n",
    "- 데이터에 대한 접근 부여 등 관리 목적으로 사용\n",
    "- COMMIT, ROLLBACK, GRANT, REVOKE\n",
    "\n",
    "#### DML(데이터 조작어)\n",
    "- 데이터베이스에 저장된 데이터를 실직적으로 처리하는데 사용\n",
    "- SELECT, INSERT, UPDATE, DELETE\n",
    "- <span style=\"color:red\">UPDATE, DELETE 쿼리는 데이터를 변경, 삭제할 수 있으므로 주의 필요</span>"
   ]
  },
  {
   "cell_type": "code",
   "execution_count": null,
   "metadata": {},
   "outputs": [],
   "source": []
  },
  {
   "cell_type": "markdown",
   "metadata": {},
   "source": [
    "## 04 | SELECT 문\n",
    "\n",
    "---\n",
    "\n",
    "#### SELECT 문\n",
    "- 하나 또는 그 이상의 테이블에서 데이터를 추출하기 위한 명령으로 데이터 조작 언어(DML)에서 가장 많이 사용\n",
    "- 순서대로 작성해야 함 (GROUP BY 절과 HAVING 절 순서가 바껴도 되는 등의 예외는 있음)\n",
    "- 순서대로 작성하지 않을 시, 잘못된 데이터가 출력되거나 ERROR로 인해 데이터 조회가 안됨"
   ]
  },
  {
   "cell_type": "code",
   "execution_count": null,
   "metadata": {},
   "outputs": [],
   "source": []
  },
  {
   "cell_type": "markdown",
   "metadata": {},
   "source": [
    "## 05 | 시스템 테이블/집계함수\n",
    "\n",
    "#### 시스템 테이블\n",
    "- DBMS에서 데이터베이스 관리 목적으로 제공\n",
    "- 사용자 정보, 테이블 정보, 시스템 정보 등 제공\n",
    "  * 예) \n",
    "     * master..sysobject(MSSQL)\n",
    "     * information_schema.tables, information_schema.columns (MYSQL)\n",
    "     * all_tables, user_tables, all_tab_columns (ORACLE)\n",
    "     \n",
    "- SQL Injection 공격 시, 테이블, 컬럼 등의 정보를 얻기 위해 사용\n",
    "\n",
    "#### 집계함수\n",
    "\n",
    "- 특정 컬럼의 데이터 개수, 데이터의 합, 최대값, 최소값 등 산술적인 연산이 필요한 경우 함수를 사용하여 결과를 출력\n",
    "- 함수의 종류\n",
    "  * COUNT, SUM, AVG, MAX, MIN, LENGTH 등\n",
    "- 함수 사용 형식\n",
    "  * SELECT 함수명(컬럼명) FROM 테이블명\n",
    "  예) SELECT COUNT(*) FROM member // 멤버 테이블에 존재하는 데이터 수(회원 수)를 출력"
   ]
  },
  {
   "cell_type": "code",
   "execution_count": null,
   "metadata": {},
   "outputs": [],
   "source": []
  },
  {
   "cell_type": "markdown",
   "metadata": {},
   "source": [
    "## 06 | Sub Query (서브 쿼리)\n",
    "\n",
    "#### Sub Query\n",
    "- 문장의 하부 절에 쿼리를 사용하는 것, Inner Query 라고도 함\n",
    "- 연산자의 오른쪽에 위치해야하고, 괄호로 묶어야 함\n",
    "\n",
    "#### 위치에 따른 Sub Query 명칭\n",
    "- SELECT 문에 있는 서브쿼리 : 스칼라 서브쿼리\n",
    "- FROM 절에 있는 서브쿼리 : 인라인 뷰, 인라인 뷰 안에 또 다른 인라인 뷰 올 수 있음\n",
    "- WHERE 절에 있는 서브쿼리 : 서브쿼리\n",
    "\n",
    "#### 서브쿼리의 반환 값에 따른 Sub Query 종류\n",
    "- 단일 행 서브쿼리(Single-Row Subquery): 서브쿼리의 결과가 1행 혹은 0행, 단일값이므로 =,>,< 연산자와 연결 가능\n",
    "- 다중 행 서브쿼리(Multiple-Row Subquery): 서브쿼리의 결과가 여러 행\n",
    "- 다중 컬럼 서브쿼리(Multiple-Column Subquery): 서브쿼리의 결과가 여러 컬럼\n",
    "        예제) SELECT * FROM (SELECT id, name FROM git ORDER BY name) WHERE ROWNUM <= 10;"
   ]
  },
  {
   "cell_type": "code",
   "execution_count": null,
   "metadata": {},
   "outputs": [],
   "source": []
  },
  {
   "cell_type": "markdown",
   "metadata": {},
   "source": [
    "## 07 | SQL injection 영향\n",
    "\n",
    "#### 인증 우회\n",
    "- SELECT * FROM users WHERE username = ' <span style=\"color:red\">' or '1' = '1</span>' and password='<span style=\"color:red\">'or'1'='1</span>';\n",
    "- 쿼리 구성이 위와 같을 경우 ID와 PW부분에 <span style=\"color:red\"> 'or '1'='1</span> 를 입력하여 전체 결과를 참이 되게 하여 인증을 통과 할 수 있음\n",
    "\n",
    "#### Stored Procedure를 이용한 임의의 서비스 실행\n",
    "- Stored Procedure : 저장 프로시저, 쿼리를 하나의 함수처럼 실행하기 위한 쿼리 집합\n",
    "- 예) 텔넷 서비스 실행 가능 "
   ]
  },
  {
   "cell_type": "code",
   "execution_count": null,
   "metadata": {},
   "outputs": [],
   "source": []
  }
 ],
 "metadata": {
  "kernelspec": {
   "display_name": "Python 3",
   "language": "python",
   "name": "python3"
  },
  "language_info": {
   "codemirror_mode": {
    "name": "ipython",
    "version": 3
   },
   "file_extension": ".py",
   "mimetype": "text/x-python",
   "name": "python",
   "nbconvert_exporter": "python",
   "pygments_lexer": "ipython3",
   "version": "3.8.3"
  }
 },
 "nbformat": 4,
 "nbformat_minor": 4
}
