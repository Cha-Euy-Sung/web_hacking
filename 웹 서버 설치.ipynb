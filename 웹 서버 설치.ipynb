{
 "cells": [
  {
   "cell_type": "markdown",
   "metadata": {},
   "source": [
    "#### 사전준비\n",
    "- AWS EC2 인스턴스 생성 \n"
   ]
  },
  {
   "cell_type": "markdown",
   "metadata": {},
   "source": [
    "#### 웹 서버 생성 (nginx)\n",
    "\n",
    "1. sudo su - root\n",
    "2. yum update\n",
    "3. yum install https://dl.fedoraproject.org/pub/epel/epel-release-latest-7.noarch.rpm\n",
    "4. yum -y install nginx\n",
    "5. service nginx restart\n",
    "6. vi /usr/share/nginx/html/index.html"
   ]
  },
  {
   "cell_type": "code",
   "execution_count": null,
   "metadata": {},
   "outputs": [],
   "source": []
  }
 ],
 "metadata": {
  "kernelspec": {
   "display_name": "Python 3",
   "language": "python",
   "name": "python3"
  },
  "language_info": {
   "codemirror_mode": {
    "name": "ipython",
    "version": 3
   },
   "file_extension": ".py",
   "mimetype": "text/x-python",
   "name": "python",
   "nbconvert_exporter": "python",
   "pygments_lexer": "ipython3",
   "version": "3.8.3"
  }
 },
 "nbformat": 4,
 "nbformat_minor": 4
}
